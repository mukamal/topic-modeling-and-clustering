{
  "nbformat": 4,
  "nbformat_minor": 0,
  "metadata": {
    "kernelspec": {
      "display_name": "Python 3",
      "language": "python",
      "name": "python3"
    },
    "language_info": {
      "codemirror_mode": {
        "name": "ipython",
        "version": 3
      },
      "file_extension": ".py",
      "mimetype": "text/x-python",
      "name": "python",
      "nbconvert_exporter": "python",
      "pygments_lexer": "ipython3",
      "version": "3.8.3"
    },
    "colab": {
      "name": "topic-modeling-and-clustering.ipynb",
      "provenance": [],
      "include_colab_link": true
    }
  },
  "cells": [
    {
      "cell_type": "markdown",
      "metadata": {
        "id": "view-in-github",
        "colab_type": "text"
      },
      "source": [
        "<a href=\"https://colab.research.google.com/github/mukamal/topic-modeling-and-clustering/blob/main/topic_modeling_and_clustering.ipynb\" target=\"_parent\"><img src=\"https://colab.research.google.com/assets/colab-badge.svg\" alt=\"Open In Colab\"/></a>"
      ]
    },
    {
      "cell_type": "markdown",
      "metadata": {
        "id": "NJKqFDretO9h"
      },
      "source": [
        "#Exploring Faculty Reseach using Text Mining"
      ]
    },
    {
      "cell_type": "code",
      "metadata": {
        "id": "PTo6rbgItOD_",
        "outputId": "077ce353-909b-4b04-9f3f-f35e800419d6"
      },
      "source": [
        "import pandas as pd\n",
        "from sklearn.feature_extraction.text import TfidfVectorizer, CountVectorizer\n",
        "\n",
        "df = pd.read_csv('iSchoolpubdata_Experts_v5.csv')\n",
        "names=df['Name'].tolist()\n",
        "txts=df['TitlesAndAbstracts'].tolist()\n",
        "\n",
        "\n",
        "df.head()"
      ],
      "execution_count": null,
      "outputs": [
        {
          "output_type": "execute_result",
          "data": {
            "text/html": [
              "<div>\n",
              "<style scoped>\n",
              "    .dataframe tbody tr th:only-of-type {\n",
              "        vertical-align: middle;\n",
              "    }\n",
              "\n",
              "    .dataframe tbody tr th {\n",
              "        vertical-align: top;\n",
              "    }\n",
              "\n",
              "    .dataframe thead th {\n",
              "        text-align: right;\n",
              "    }\n",
              "</style>\n",
              "<table border=\"1\" class=\"dataframe\">\n",
              "  <thead>\n",
              "    <tr style=\"text-align: right;\">\n",
              "      <th></th>\n",
              "      <th>Name</th>\n",
              "      <th>TitlesAndAbstracts</th>\n",
              "    </tr>\n",
              "  </thead>\n",
              "  <tbody>\n",
              "    <tr>\n",
              "      <th>0</th>\n",
              "      <td>Bei Yu</td>\n",
              "      <td>Topic modeling for evaluating students' reflec...</td>\n",
              "    </tr>\n",
              "    <tr>\n",
              "      <th>1</th>\n",
              "      <td>Beth Patin</td>\n",
              "      <td>Struggling to breathe -- Purpose: The purpose ...</td>\n",
              "    </tr>\n",
              "    <tr>\n",
              "      <th>2</th>\n",
              "      <td>Bruce Kingma</td>\n",
              "      <td>University-wide entrepreneurship education -- ...</td>\n",
              "    </tr>\n",
              "    <tr>\n",
              "      <th>3</th>\n",
              "      <td>Bryan C Semaan</td>\n",
              "      <td>“I am uncomfortable sharing what I can't see” ...</td>\n",
              "    </tr>\n",
              "    <tr>\n",
              "      <th>4</th>\n",
              "      <td>Carlos Enrique Caicedo Bastidas</td>\n",
              "      <td>An initial approach towards quality of service...</td>\n",
              "    </tr>\n",
              "  </tbody>\n",
              "</table>\n",
              "</div>"
            ],
            "text/plain": [
              "                              Name  \\\n",
              "0                           Bei Yu   \n",
              "1                       Beth Patin   \n",
              "2                     Bruce Kingma   \n",
              "3                   Bryan C Semaan   \n",
              "4  Carlos Enrique Caicedo Bastidas   \n",
              "\n",
              "                                  TitlesAndAbstracts  \n",
              "0  Topic modeling for evaluating students' reflec...  \n",
              "1  Struggling to breathe -- Purpose: The purpose ...  \n",
              "2  University-wide entrepreneurship education -- ...  \n",
              "3  “I am uncomfortable sharing what I can't see” ...  \n",
              "4  An initial approach towards quality of service...  "
            ]
          },
          "metadata": {
            "tags": []
          },
          "execution_count": 1
        }
      ]
    },
    {
      "cell_type": "code",
      "metadata": {
        "id": "qQv6_2A6tOEF"
      },
      "source": [
        "unigram_count = CountVectorizer(encoding='latin-1', stop_words='english', binary=False)\n",
        "vecs = unigram_count.fit_transform(df['TitlesAndAbstracts'])"
      ],
      "execution_count": null,
      "outputs": []
    },
    {
      "cell_type": "code",
      "metadata": {
        "scrolled": true,
        "id": "ssE_INUMtOEG",
        "outputId": "2fc8761a-c9b0-4937-ddba-f2c04de44cc4"
      },
      "source": [
        "from sklearn.metrics.pairwise import linear_kernel\n",
        "from sklearn.metrics.pairwise import cosine_similarity\n",
        "\n",
        "cos_sim = cosine_similarity(vecs[0], vecs)\n",
        "print(cos_sim)\n",
        "\n",
        "sim_sorted_doc_idx = cos_sim.argsort()\n",
        "print(sim_sorted_doc_idx.shape)"
      ],
      "execution_count": null,
      "outputs": [
        {
          "output_type": "stream",
          "text": [
            "[[1.         0.12875761 0.11949674 0.41279035 0.18076245 0.36080546\n",
            "  0.40004143 0.310771   0.33445665 0.24337534 0.42397761 0.33251484\n",
            "  0.27761228 0.4123742  0.31727379 0.25755574 0.32267848 0.40627897\n",
            "  0.06675091 0.1753439  0.46094295 0.34538754 0.30544257 0.14397987\n",
            "  0.3066641  0.21042433 0.44148825 0.25748061 0.24049681 0.35811224]]\n",
            "(1, 30)\n"
          ],
          "name": "stdout"
        }
      ]
    },
    {
      "cell_type": "code",
      "metadata": {
        "id": "Op_UoUYYtOEG"
      },
      "source": [
        "d={}\n",
        "\n",
        "for i in range(len(names)):\n",
        "    cos_sim = cosine_similarity(vecs[i], vecs)\n",
        "    sim_sorted_doc_idx = cos_sim.argsort()\n",
        "    a=[]\n",
        "    b=[]\n",
        "    c=[]\n",
        "    for j in range(5):\n",
        "        a.append(names[sim_sorted_doc_idx[0][len(txts)-j-2]])\n",
        "        b.append(sim_sorted_doc_idx[0][len(txts)-j-2])\n",
        "        c.append(float('%.2f'%(cos_sim[0][sim_sorted_doc_idx[0][len(txts)-j-2]])))\n",
        "    d [names[i]]=[a,b,c]\n",
        "#    print(d [names[i]])\n",
        "d_df = pd.DataFrame(data=d)  "
      ],
      "execution_count": null,
      "outputs": []
    },
    {
      "cell_type": "code",
      "metadata": {
        "id": "O8UNwMK0tOEG"
      },
      "source": [
        "d_df.to_csv(r'd_df.csv', index = False)\n"
      ],
      "execution_count": null,
      "outputs": []
    },
    {
      "cell_type": "code",
      "metadata": {
        "id": "wP-5oSSntOEH",
        "outputId": "e4012fed-6b3e-460d-b492-8bad4e9d9340"
      },
      "source": [
        "from sklearn.cluster import KMeans\n",
        "\n",
        "# elbow method to find the best number of K\n",
        "import matplotlib.pyplot as plt\n",
        "def find_optimal_clusters(data, max_k):\n",
        "    iters = range(2, max_k+1, 1)\n",
        "    \n",
        "    sse = []\n",
        "    for k in iters:\n",
        "        kmeans_model = KMeans(n_clusters=k,random_state=0, n_init=5).fit(data)\n",
        "        sse.append(kmeans_model.inertia_)\n",
        "    f, ax = plt.subplots(1, 1)\n",
        "    ax.plot(iters, sse, marker='o')\n",
        "    ax.set_xlabel('Cluster Centers')\n",
        "    ax.set_xticks(iters)\n",
        "    ax.set_xticklabels(iters)\n",
        "    ax.set_ylabel('sse')\n",
        "    ax.set_title('SSE by Cluster Center Plot')\n",
        "\n",
        "\n",
        "find_optimal_clusters(vecs,10)"
      ],
      "execution_count": null,
      "outputs": [
        {
          "output_type": "display_data",
          "data": {
            "image/png": "[encoded data removed]",
            "text/plain": [
              "<Figure size 432x288 with 1 Axes>"
            ]
          },
          "metadata": {
            "tags": [],
            "needs_background": "light"
          }
        }
      ]
    },
    {
      "cell_type": "code",
      "metadata": {
        "id": "wDWShq-ptOEH"
      },
      "source": [
        "k = 4\n",
        "km = KMeans(n_clusters=k, algorithm='auto', init='random', n_init=50, random_state=0, verbose=False)\n",
        "kFit=km.fit(vecs)\n"
      ],
      "execution_count": null,
      "outputs": []
    },
    {
      "cell_type": "code",
      "metadata": {
        "id": "uTdEBrORtOEH",
        "outputId": "05ca971f-654a-47dd-ce40-396329e8b9fa"
      },
      "source": [
        "data_tuples = list(zip(names,km.labels_))\n",
        "names_cluster=pd.DataFrame(data_tuples, columns=['Names','Cluster'])\n",
        "names_cluster_sorted=names_cluster.sort_values(by=['Cluster'])\n",
        "names_cluster_sorted.to_csv(r'clusters.csv', index = False)\n",
        "\n",
        "names_cluster_sorted\n"
      ],
      "execution_count": null,
      "outputs": [
        {
          "output_type": "execute_result",
          "data": {
            "text/html": [
              "<div>\n",
              "<style scoped>\n",
              "    .dataframe tbody tr th:only-of-type {\n",
              "        vertical-align: middle;\n",
              "    }\n",
              "\n",
              "    .dataframe tbody tr th {\n",
              "        vertical-align: top;\n",
              "    }\n",
              "\n",
              "    .dataframe thead th {\n",
              "        text-align: right;\n",
              "    }\n",
              "</style>\n",
              "<table border=\"1\" class=\"dataframe\">\n",
              "  <thead>\n",
              "    <tr style=\"text-align: right;\">\n",
              "      <th></th>\n",
              "      <th>Names</th>\n",
              "      <th>Cluster</th>\n",
              "    </tr>\n",
              "  </thead>\n",
              "  <tbody>\n",
              "    <tr>\n",
              "      <th>17</th>\n",
              "      <td>Kevin G Crowston</td>\n",
              "      <td>0</td>\n",
              "    </tr>\n",
              "    <tr>\n",
              "      <th>0</th>\n",
              "      <td>Bei Yu</td>\n",
              "      <td>1</td>\n",
              "    </tr>\n",
              "    <tr>\n",
              "      <th>26</th>\n",
              "      <td>Ping Zhang</td>\n",
              "      <td>1</td>\n",
              "    </tr>\n",
              "    <tr>\n",
              "      <th>20</th>\n",
              "      <td>Lu Xiao</td>\n",
              "      <td>1</td>\n",
              "    </tr>\n",
              "    <tr>\n",
              "      <th>10</th>\n",
              "      <td>Jeffrey Hemsley</td>\n",
              "      <td>1</td>\n",
              "    </tr>\n",
              "    <tr>\n",
              "      <th>29</th>\n",
              "      <td>Steven B Sawyer</td>\n",
              "      <td>1</td>\n",
              "    </tr>\n",
              "    <tr>\n",
              "      <th>3</th>\n",
              "      <td>Bryan C Semaan</td>\n",
              "      <td>1</td>\n",
              "    </tr>\n",
              "    <tr>\n",
              "      <th>27</th>\n",
              "      <td>Rachel Clarke</td>\n",
              "      <td>2</td>\n",
              "    </tr>\n",
              "    <tr>\n",
              "      <th>1</th>\n",
              "      <td>Beth Patin</td>\n",
              "      <td>2</td>\n",
              "    </tr>\n",
              "    <tr>\n",
              "      <th>25</th>\n",
              "      <td>Murali Venkatesh</td>\n",
              "      <td>2</td>\n",
              "    </tr>\n",
              "    <tr>\n",
              "      <th>24</th>\n",
              "      <td>Michelle L Kaarst-Brown</td>\n",
              "      <td>2</td>\n",
              "    </tr>\n",
              "    <tr>\n",
              "      <th>23</th>\n",
              "      <td>Megan Oakleaf</td>\n",
              "      <td>2</td>\n",
              "    </tr>\n",
              "    <tr>\n",
              "      <th>22</th>\n",
              "      <td>Martha A Garcia-Murillo</td>\n",
              "      <td>2</td>\n",
              "    </tr>\n",
              "    <tr>\n",
              "      <th>21</th>\n",
              "      <td>Marilyn Arnone</td>\n",
              "      <td>2</td>\n",
              "    </tr>\n",
              "    <tr>\n",
              "      <th>2</th>\n",
              "      <td>Bruce Kingma</td>\n",
              "      <td>2</td>\n",
              "    </tr>\n",
              "    <tr>\n",
              "      <th>19</th>\n",
              "      <td>Lee W McKnight</td>\n",
              "      <td>2</td>\n",
              "    </tr>\n",
              "    <tr>\n",
              "      <th>18</th>\n",
              "      <td>LaVerne Gray</td>\n",
              "      <td>2</td>\n",
              "    </tr>\n",
              "    <tr>\n",
              "      <th>6</th>\n",
              "      <td>Carsten Oesterlund</td>\n",
              "      <td>2</td>\n",
              "    </tr>\n",
              "    <tr>\n",
              "      <th>16</th>\n",
              "      <td>Joshua Introne</td>\n",
              "      <td>2</td>\n",
              "    </tr>\n",
              "    <tr>\n",
              "      <th>15</th>\n",
              "      <td>Joon S Park</td>\n",
              "      <td>2</td>\n",
              "    </tr>\n",
              "    <tr>\n",
              "      <th>28</th>\n",
              "      <td>Radhika Garg</td>\n",
              "      <td>2</td>\n",
              "    </tr>\n",
              "    <tr>\n",
              "      <th>13</th>\n",
              "      <td>Jennifer Stromer-Galley</td>\n",
              "      <td>2</td>\n",
              "    </tr>\n",
              "    <tr>\n",
              "      <th>11</th>\n",
              "      <td>Jeffrey M Stanton</td>\n",
              "      <td>2</td>\n",
              "    </tr>\n",
              "    <tr>\n",
              "      <th>4</th>\n",
              "      <td>Carlos Enrique Caicedo Bastidas</td>\n",
              "      <td>2</td>\n",
              "    </tr>\n",
              "    <tr>\n",
              "      <th>9</th>\n",
              "      <td>Jason Dedrick</td>\n",
              "      <td>2</td>\n",
              "    </tr>\n",
              "    <tr>\n",
              "      <th>8</th>\n",
              "      <td>Ingrid Erickson</td>\n",
              "      <td>2</td>\n",
              "    </tr>\n",
              "    <tr>\n",
              "      <th>7</th>\n",
              "      <td>Daniel Acuna</td>\n",
              "      <td>2</td>\n",
              "    </tr>\n",
              "    <tr>\n",
              "      <th>5</th>\n",
              "      <td>Caroline Haythornthwaite</td>\n",
              "      <td>2</td>\n",
              "    </tr>\n",
              "    <tr>\n",
              "      <th>12</th>\n",
              "      <td>Jeffrey Saltz</td>\n",
              "      <td>3</td>\n",
              "    </tr>\n",
              "    <tr>\n",
              "      <th>14</th>\n",
              "      <td>Jian Qin</td>\n",
              "      <td>3</td>\n",
              "    </tr>\n",
              "  </tbody>\n",
              "</table>\n",
              "</div>"
            ],
            "text/plain": [
              "                              Names  Cluster\n",
              "17                 Kevin G Crowston        0\n",
              "0                            Bei Yu        1\n",
              "26                       Ping Zhang        1\n",
              "20                          Lu Xiao        1\n",
              "10                  Jeffrey Hemsley        1\n",
              "29                  Steven B Sawyer        1\n",
              "3                    Bryan C Semaan        1\n",
              "27                    Rachel Clarke        2\n",
              "1                        Beth Patin        2\n",
              "25                 Murali Venkatesh        2\n",
              "24          Michelle L Kaarst-Brown        2\n",
              "23                    Megan Oakleaf        2\n",
              "22          Martha A Garcia-Murillo        2\n",
              "21                   Marilyn Arnone        2\n",
              "2                      Bruce Kingma        2\n",
              "19                   Lee W McKnight        2\n",
              "18                     LaVerne Gray        2\n",
              "6                Carsten Oesterlund        2\n",
              "16                   Joshua Introne        2\n",
              "15                      Joon S Park        2\n",
              "28                     Radhika Garg        2\n",
              "13          Jennifer Stromer-Galley        2\n",
              "11                Jeffrey M Stanton        2\n",
              "4   Carlos Enrique Caicedo Bastidas        2\n",
              "9                     Jason Dedrick        2\n",
              "8                   Ingrid Erickson        2\n",
              "7                      Daniel Acuna        2\n",
              "5          Caroline Haythornthwaite        2\n",
              "12                    Jeffrey Saltz        3\n",
              "14                         Jian Qin        3"
            ]
          },
          "metadata": {
            "tags": []
          },
          "execution_count": 8
        }
      ]
    },
    {
      "cell_type": "code",
      "metadata": {
        "id": "knLQHNUytOEI",
        "outputId": "3512f9f4-57c9-4560-fa8e-225379b87949"
      },
      "source": [
        "print(txts[12]) # Saltz"
      ],
      "execution_count": null,
      "outputs": [
        {
          "output_type": "stream",
          "text": [
            "Modular design of data-driven analytics models in smart-product development -- Data-driven analytics models have been built as critical components of a smart product to enable product autonomy and intelligence. Due in part to the dynamic nature of the machinelearning algorithms used in data-driven analytics models, the configuration of a smart product is frequently refined, often in a real-time context. Hence, a smart product requires a continuous evolution of its architecture. This paper proposes a systematic method to facilitate the modularization of an analytics model architecture, so that a modular smart-product architecture can be achieved. Productizing an analytics model transforms conventional taskoriented data analytics activities into a data product development process. Issues related to the standardization of analytics models, the modular design approaches, the modularity quantification, and their impacts on the overall smart product design, are discussed. The proposed method is applied to an unmanned aircraft system (UAS) design so that a modular UAS architecture can be configured for various mission applications.; Towards an integrated process model for new product development with data-driven features (NPD3) -- New information and communication technologies are changing the way products are developed, manufactured, serviced and managed over the product’s lifecycle. Today’s smart products not only consist of their physical components, but are also endowed with intelligence. Data and the capabilities to process data into knowledge and eventually decisions have become critical components of the product itself and of the process to develop/operate the product. This paper investigates how engineers and a new functional role, data scientists, can effectively collaborate in a mixed team for new product development with data-driven features (NPD3). We focus on the concept development stage, typically the fuzziest phase of product development. In this paper, an integrated process model is explored by revisiting the traditional new product development (NPD) process model as well as the knowledge discovery and data mining (KDDM) process model. Then a case study of the development of an application-specific unmanned aircraft system (UAS) is used to examine the proposed model.; The GET immersion experience -- This article describes a new and innovative open co-op program for MIS/IS students. The program, Global Enterprise Technology Immersion Experience (GET IE), has a global enterprise focus that is integrated with hands-on experiential work-based learning to provide a context in which students are stimulated to utilize their classroom knowledge. The program includes a two-semester internship component that can be seamlessly incorporated with an existing MIS curriculum. The internship's unique pedagogical innovation is to deliver academic coursework on global enterprise technology to the students just in time-that is, while they are participating in an extended internship. The program, in effect, creates a domain-specific, next generation co-op program that complements traditional information systems curricula with a skillset that is required for creating and running very large global enterprise applications. The guiding GET consortium consists of four universities and a number of large companies, and the consortium is open to future expansion. The continued growth of the consortium would enrich student choices and foster cross-fertilization of curriculum activities.; An open co-op model for global enterprise technology education -- We present an open co-op program called Global Enterprise Technology Immersion Experience (GET IE) developed by JPMorgan Chase & Co. and Syracuse University. The new program creates a global enterprise focus in technology-oriented academic majors, integrated with hands-on experiential work-based learning to provide a context in which students are stimulated to utilize their classroom experience. The program includes a two-semester paid internship component that can be seamlessly incorporated with the existing computer science curriculum at Syracuse and else where. The internship's unique pedagogical innovation is to simultaneously provide the students academic course work that is integrated within a students extended internship and provides relevant problems in global enterprise technology. The curricula is \"open\" in the sense that other institutions and companies can join the consortium to enrich choices for the students and foster cross-fertilization of curricula activities. The program, in effect, creates a domain specific next generation co-op program that complements typical computer science curricula with a skill-set that is required for creating very large, global enterprise applications for technically and socially diverse organizations.; The need for new processes, methodologies and tools to support big data teams and improve big data project effectiveness -- As data continues to be produced in massive amounts, with increasing volume, velocity and variety, big data projects are growing in frequency and importance. However, the growth in the use of big data has outstripped the knowledge of how to support teams that need to do big data projects. In fact, while much has been written in terms of the use of algorithms that can help generate insightful analysis, much less has been written about methodologies, tools and frameworks that could enable teams to more effectively and efficiently «do» big data projects. Hence, this paper discusses the key research questions relating methodologies, tools and frameworks to improve big data team effectiveness as well as the potential goals for a big data process methodology. Finally, the paper also discusses related domains, such as software development, operations research and business intelligence, since these fields might provide insight into how to define a big data process methodology.; Exploring the process of doing data science via an ethnographic study of a media advertising company -- This paper presents the results of an ethnographic study focused on how data science projects were conducted within a global media advertising company. Observations, via embedding a researcher within the team, as well as more structured interviews and surveys, are documented. Recommendations to improve the current data science methodology within the company are also discussed. Overall, there had been little focus on the team's process methodology and the suggested process improvements would result in the company's data science projects having less risk and shorter timelines. Other big data teams might also benefit from reviewing and refining their work processes, but more work needs to be done to validate this assumption.; A framework for describing big data projects -- With the ability to collect, store and analyze an ever-growing diversity of data generated with ever-increasing frequency, Big Data is a rapidly growing field. While tremendous strides have been made in the algorithms and technologies that are used to perform the analytics, much less has been done to determine how the team should work together to do a Big Data project. Our research reports on a set of case studies, where researchers were embedded within Big Data teams. Since project methodologies will likely depend on the attributes of a Big Data effort, we focus our analysis on defining a framework to describe a Big Data project. We then use this framework to describe the organizations we studied and some of the socio-technical challenges linked to these newly defined project characteristics.; Not all software engineers can become good data engineers -- The amount of data that businesses collect and analyze has been rapidly increasing, which has triggered an increase in big data teams. With the growth of both the number and size of big data teams, specialized roles are starting to be defined. One such role is the data engineer, who focuses on ensuring that the data is easily available for advanced analytics. Via a case study, this paper explores the role of the data engineer and the key characteristics that enable someone to be a good data engineer. The paper also explores if good software engineers could become good data engineers. Our findings show that the knowledge and skills required to be a data engineer are significantly different from those required to be a software engineer. Hence, not surprisingly, we found that that not all software engineers could become good data engineers.; Big data team process methodologies -- This paper reports on our review of published research relating to how teams work together to execute Big Data projects. Our findings suggest that there is no agreed upon standard for executing these projects but that there is a growing research focus in this area and that an improved process methodology would be useful. In addition, our synthesis also provides useful suggestions to help practitioners execute their projects, specifically our identified list of 33 important success factors for executing Big Data efforts, which are grouped by our six identified characteristics of a mature Big Data organization.; Predicting data science sociotechnical execution challenges by categorizing data science projects -- The challenge in executing a data science project is more than just identifying the best algorithm and tool set to use. Additional sociotechnical challenges include items such as how to define the project goals and how to ensure the project is effectively managed. This paper reports on a set of case studies where researchers were embedded within data science teams and where the researcher observations and analysis was focused on the attributes that can help describe data science projects and the challenges faced by the teams executing these projects, as opposed to the algorithms and technologies that were used to perform the analytics. Based on our case studies, we identified 14 characteristics that can help describe a data science project. We then used these characteristics to create a model that defines two key dimensions of the project. Finally, by clustering the projects within these two dimensions, we identified four types of data science projects, and based on the type of project, we identified some of the sociotechnical challenges that project teams should expect to encounter when executing data science projects.; Comparing Data Science Project Management Methodologies via a Controlled Experiment -- Data Science is an emerging field with a significant research focus on improving the techniques available to analyze data. However, there has been much less focus on how people should work together on a data science project. In this paper, we report on the results of an experiment comparing four different methodologies to manage and coordinate a data science project. We first introduce a model to compare different project management methodologies and then report on the results of our experiment. The results from our experiment demonstrate that there are significant differences based on the methodology used, with an Agile Kanban methodology being the most effective and surprisingly, an Agile Scrum methodology being the least effective.; What is a data science/analytics degree? -- Data science, and the related field of analytics, is an emerging discipline that integrates concepts across a range of domains, including computer science, information systems, software engineering and statistics. While the number of data science / analytics programs continues to increase, there has been little discussion on how we should define this emerging educational field. This panel will foster a debate with respect to what are the key learning objectives within these programs and should there be different types of data science related programs (such as an applied data science program or a business analytics program in addition to data science programs). Via a debate, this panel, along with the audience, will explore the field of data science and these emerging questions regarding data science and analytics education.; A framework to explore ethical issues when using big data analytics on the future networked internet of things -- The networked future will generate a huge amount of data. With this in mind, using big data analytics will be an important capability that will be required to fully leverage the knowledge within the data. However, collecting, storing and analyzing the data can create many ethical situations that data scientists have yet to ponder. Hence, this paper explores some of the possible ethical conundrums that might have to be addressed within a big data network of the future project and proposes a framework that can be used by data scientists working within such a context. These ethical challenges are explored within an example of future networked vehicles. In short, the framework focuses on two high level ethical considerations that need to be considered: data related challenges and model related challenges.; Key concepts for a data science ethics curriculum -- Data science is a new field that integrates aspects of computer science, statistics and information management. As a new field, ethical issues a data scientist may encounter have received little attention to date, and ethics training within a data science curriculum has received even less attention. To address this gap, this article explores the different codes of conduct and ethics frameworks related to data science. We compare this analysis with the results of a systematic literature review focusing on ethics in data science. Our analysis identified twelve key ethics areas that should be included within a data science ethics curriculum. Our research notes that none of the existing codes or frameworks covers all of the identified themes. Data science educators and program coordinators can use our results as a way to identify key ethical concepts that can be introduced within a data science program.; Does pair programming work in a data science context? An initial case study -- While pair programming has been studied extensively for software programmers, very little has been reported with respect to pair programming in a data science project. This paper reports on a case study evaluating the effectiveness of pair programming within a data science / big data context. Our findings show that pair programming can be useful for data science teams. In addition, while the driver role was similar to what has been described for software programmers, we note that the observer role had an expanded set of responsibilities, which we termed researcher activities. Further exploration is required to explore if these expanded roles are specific to data science pair programming.; The ambiguity of data science team roles and the need for a data science workforce framework -- This paper first reviews the benefits of well-defined roles and then discusses the current lack of standardized roles within the data science community, perhaps due to the newness of the field. Specifically, the paper reports on five case studies exploring five different attempts to define a standard set of roles. These case studies explore the usage of roles from an industry perspective as well as from national standard big data committee efforts. The paper then leverages the results of these case studies to explore the use of data science roles within online job postings. While some roles appeared frequently, such as data scientist and data engineer, no role was consistently used across all five case studies. Hence, the paper concludes by noting the need to create a data science workforce framework that could be used by students, employers, and academic institutions. This framework would enable organizations to staff their data science teams more accurately with the desired skillsets.; Key Management and Governance Challenges when Executing Data Science / Analytics Projects -- Big data, data science and analytics have become increasingly important strategic assets because they can help organizations make better decisions, discover new insights, competitively differentiate, and they enable the embedding of intelligence into automated processes so organizations can efficiently respond at the speed of business. Effective organizational management and goverce of data science practices are necessary in order to mitigate risks associated with analytics deployment. For example, organizations need to capture and manage critical meta-information detailing modeling and environmental assumptions underlying the analytics solutions, they also need to establish policies and a culture designed to ensure adherence to the highest ethical standards of data management and predictive model deployment. At a higher level, unleashing machine learning algorithms may require safeguards and risk mitigation monitoring to address these types of socio-technical challenges. This panel will foster a debate with respect to what are the most important concerns or potential issues that an organization should focus on while executing a data science/analytics project. Via a debate, the panel, along with the audience, will explore the field of data science and predictive analytics, and what are the key project risks that need to be mitigated.; Exploring project management methodologies used within data science teams -- There are many reasons data science teams should use a well-defined process to manage and coordinate their efforts, such as improved collaboration, efficiency and stakeholder communication. This paper explores the current methodology data science teams use to manage and coordinate their efforts. Unfortunately, based on our survey results, most data science teams currently use an ad hoc project management approach. In fact, 82% of the data scientists surveyed did not follow an explicit process. However, it is encouraging to note that 85% of the respondents thought that adopting an improved process methodology would improve the teams' outcomes. Based on these results, we described six possible process methodologies teams could use. To conclude, we outlined plans to describe best practices for data science team processes and to develop a process evaluation framework.; Exploring how different project management methodologies impact data science students -- This paper reports on a controlled experiment comparing different approaches on how to guide students through a semester long data science project. Four different methodologies, ranging from a traditional “just assign some intermediate milestones” to other more agile methodologies, are compared. The results of the experiment shows that the project methodology used in the classroom made a significant difference in student outcomes. Surprisingly, an Agile Kanban approach was found to be much more effective than an Agile Scrum methodology, which was not one of the leading ap-proaches.; Acceptance factors for using a big data capability and maturity model -- Big data is an emerging field that combines expertise across a range of domains, including software development, data management and statistics. However, it has been shown that big data projects suffer because they often operate at a low level of process maturity. To help address this gap, the Diffusion of Innovation Theory is used as a theoretical lens to identify factors that might drive an organization to try and improve their process maturity. Specifically, thirteen acceptance factors for teams to use (or not use) a Big Data CMM are identified. These results suggest that a positive perception exists with respect to relative advantage, compatibility and observability factors, and a negative perception exists with respect to perceived complexity. While more work is required to refine the list of factors, this insight can help guide the improvement of big data team processes.; A Scalable Methodology to Guide Student Teams Executing Computing Projects -- ; Data Science Roles and the Types of Data Science Programs -- ; Helping Data Science Students Develop Task Modularity -- This paper explores the skills needed to be a data scientist. Specifically, we report on a mixed method study of a project-based data science class, where we evaluated student effectiveness with respect to dividing a project into appropriately sized modular tasks, which we termed task modularity. Our results suggest that while data science students can appreciate the value of task modularity, they struggle to achieve effective task modularity. As a first step, based our study, we identified six task decomposition best practices. However, these best practices do not fully address this gap of how to enable data science students to effectively use task modularity. We note that while computer science/information system programs typically teach modularity (e.g., the decomposition process and abstraction), and there remains a need identify a corresponding model to that used for computer science / information system students, to teach modularity to data science students.; Identifying the key drivers for teams to use a data science process methodology -- While data science teams do not yet typically use a standard team process methodology, researchers are starting to explore process methodologies that improve team performance. However, little has been done to understand what might be the key acceptance factors for teams to implement a data science process methodology. To address this gap, the Diffusion of Innovation Theory is used as a theoretical lens to identify factors that might drive an organization to adopt a data science process methodology. The results of this qualitative research effort found ten factors that can influence a team to use, or not use, a data science process methodology. In short, eight positive factors were found with respect to relative advantage and compatibility and two negative factors were identified with respect to complexity. While more work is required to validate and refine these factors, the derived acceptance model can help teams as they consider adopting an improved data science process methodology.; Data science ethical considerations -- Data science, and the related field of big data, is an emerging discipline involving the analysis of data to solve problems and develop insights. This rapidly growing domain promises many benefits to both consumers and businesses. However, the use of big data analytics can also introduce many ethical concerns, stemming from, for example, the possible loss of privacy or the harming of a sub-category of the population via a classification algorithm. To help address these potential ethical challenges, this paper maps and describes the main ethical themes that were identified via systematic literature review. It then identifies a possible structure to integrate these themes within a data science project, thus helping to provide some structure in the on-going debate with respect to the possible ethical situations that can arise when using data science analytics.; Exploring the use of a Kanban coach for student teams -- Recent research has noted the benefit of using Kanban, both within industry and for team-based student projects. Unfortunately, there has been minimal research on how to improve student learning of the Kanban process. This paper starts to address this gap by reporting on the results of an in-class experiment that explores how to implement a Kanban Coach (KC) for student teams that use Kanban. We first outline the key KC responsibilities and interaction mechanisms that enables the KC to efficiently guide student teams, and then report on the results of our experiment. Our results suggest that a KC can be implemented efficiently within an educational context, and that the use of a KC improves student learning and the quality of the team’s project. Hence, our initial results suggest that the use a KC should be considered as part of the project support for student team-based projects and that a KC helps students internalize how to effectively use the Kanban process methodology.; Visualizing Kanban work -- Kanban is an agile and lean process methodology that is growing in use across a number of domains, including software development. While the use of the process methodology has been growing, the ability to track team member contributions when using Kanban has been noted as a gap in the methodology. This research starts to address this gap by creating a prototype application that visualizes the contribution of individual team members within the Kanban team. The visualizations are then evaluated via a case study. Initial results suggest that the visualizations, which show the tasks done by week for each team member, were helpful in understand team member participation and that they were easy to understand and use.; Introduction to Data Science -- ; Integrating ethics within machine learning courses -- This article establishes and addresses opportunities for ethics integration into Machine Learning (ML) courses. Following a survey of the history of computing ethics and the current need for ethical consideration within ML, we consider the current state of ML ethics education via an exploratory analysis of course syllabi in computing programs. The results reveal that though ethics is part of the overall educational landscape in these programs, it is not frequently a part of core technical ML courses. To help address this gap, we offer a preliminary framework, developed via a systematic literature review, of relevant ethics questions that should be addressed within an ML project. A pilot study with 85 students confirms that this framework helped them identify and articulate key ethical considerations within their ML projects. Building from this work, we also provide three example ML course modules that bring ethical thinking directly into learning core ML content. Collectively, this research demonstrates: (1) the need for ethics to be taught as integrated within ML coursework, (2) a structured set of questions useful for identifying and addressing potential issues within an ML project, and (3) novel course models that provide examples for how to practically teach ML ethics without sacrificing core course content. An additional by-product of this research is the collection and integration of recent publications in the emerging field of ML ethics education.; SKI -- This paper explores data science project management by first noting the need for a new process management framework and then defines a process framework that effectively supports the needs of a data science team. The paper also reports on a pilot study of teams using the framework. The framework adheres to the lean Kanban philosophy but augments Kanban by providing a structured iteration process for teams to incrementally explore and learn via lean hypothesis testing. Specifically, the Structured Kanban Iteration (SKI) framework focuses on having teams define capability-based iterations (as opposed to Kanban-like no iterations or Scrumlike time-based sprints). Furthermore, unlike Kanban, the framework leverages Scrum best practices to define roles, meetings and artifacts. Thus, SKI implements the Kanban process, but with a more repeatable and structured approach.; Using structured pair activities in a distributed online breakout room -- With the increasing availability of synchronous video-based breakout rooms within online courses, a growing need exists to understand how to best leverage this technology for enhanced online education. To help address this challenge, this paper reports on a case study that explored student activity within online video-based breakout rooms via a Structured Paired Activity (SPA) methodology. SPA, which is adapted from the concept of Paired Programming, defines a general way to structure roles and activities for the participants within the breakout room. Initial qualitative results suggest that the use of SPA in online breakout rooms increases student engagement and process effectiveness. These results are potentially applicable to a broad range of web-based synchronous online courses.; Exploring which agile principles students internalize when using a kanban process methodology -- This paper reports on a case study of the Agile Kanban project methodology, which while growing in popularity, has had far less analysis on its usefulness in the classroom as compared to other frameworks such as Agile Scrum. Our study provides insight into why the Kanban methodology is useful by mapping student comments about the methodology to the twelve principles laid down in the Agile Manifesto. Our analysis identified two key agile principles that help to explain the value of Kanban. Specifically, we found that the students focused on self-organizing teams and reflection at regular intervals, and that these two principles led to improved team communication and coordination. Our findings are useful for those looking to use or define a process management methodology for student teams as well as others exploring the more general challenge of incorporating agile into the classroom.; The need for an enterprise risk management framework for big data science projects -- This position paper explores the need for, and benefits of, a Big Data Science Enterprise Risk Management Framework (RMF). The paper highlights the need for an RMF for Big Data Science projects, as well as the gaps and deficiencies of current risk management frameworks in addressing Big Data Science project risks. Furthermore, via a systematic literature review, the paper notes a dearth of research which looks at risk management frameworks for Big Data Science projects. The paper also reviews other emerging technology domains, and notes the creation of enhanced risk management frameworks to address the new risks introduced due to that emerging technology. Finally, this paper charts a possible path forward to define a risk management framework for Big Data Science projects.; Will Deep Learning Change How Teams Execute Big Data Projects? -- As data continues to be produced in ever increasing quantities, and technologies such as high performance computing continue to be enhanced, the number of big data projects using advanced neural network machine learning, often referred to as deep learning, continues to increase. Unfortunately, while much has been written on the use of deep learning algorithms in terms of generating insightful analysis, much less has been written about the project management process methodologies that could enable teams to more effectively and efficiently »do» big data deep learning projects. Specifically, the rapid growth in the use of deep learning techniques might introduce new challenges with respect to how to execute a big data deep learning project, due to how deep learning models can learn features automatically. For example, feature engineering and model evaluation phases of big data projects might grow in importance, while other areas, such as model selection, might decrease in importance. Hence, this paper discusses the key research questions relating the potential impact of the use of deep learning on how teams should execute big data projects.; Using a coach to improve team performance when the team uses a kanban process methodology -- Teams are increasing their use of the Kanban process methodology across a range of information system projects, including software development and data science projects. While the use of Kanban is growing, little has been done to explore how to improve team performance for teams that use Kanban. One possibility is to introduce a Kanban Coach (KC). This work reports on exploring the use of a Kanban Coach, with respect to both how the coach could interact with the team as well as how the use of a coach impacts team results. Specifically, this paper reports on an experiment where teams either had, or did not have, a Kanban Coach. A quantitative and qualitative analysis of the data collected during the experiment found that introducing KC led to significant improvement of team performance. Coordination Theory and Shared Mental Models were then employed to provide an explanation as to why a KC leads to better project results. While this experiment was done within a data science project context, the results are likely applicable across a range of information system projects.; A predictive model to identify Kanban teams at risk -- Kanban, which is an agile process methodology as well as a means to implement lean principles, has been growing as a project management framework across a range of domains, including manufacturing, software development and data science. This paper explores, for teams using Kanban, the ability to predict low team performance. The prediction is based on an analytical model that uses specific project metrics that can be collected via the team's visual Kanban board. Specifically, data from 80 teams was used to build and test machine learning models that predict teams at risk for delivering low quality results. The model developed was significantly better than the baseline situation of thinking that all teams were at risk. While this analysis was done within a data science project context, the results are likely applicable across a range of information system projects.; Improving Data Science Projects by Enriching Analytical Models with Domain Knowledge -- Domain knowledge is very important to support the development of analytic models. However, in today's data science projects, domain knowledge is typically documented, but not captured and integrated with the actual analytic model. This raises problems in interoperability and traceability of the relevant domain knowledge that is used to develop an analytic model. To address this challenge, this paper proposes a Knowledge Enriched Analytic Model (KEAM) to enrich analytic models with domain knowledge. To explore the proposed methodology and its benefits, a case study explores the utilization of KEAM to support the development of a Bayesian Network model within the smart manufacturing domain. The case study shows that the efficiency in developing an analytic model is improved by using the proposed KEAM.\n"
          ],
          "name": "stdout"
        }
      ]
    },
    {
      "cell_type": "code",
      "metadata": {
        "id": "D75LmcpUtOEI",
        "outputId": "fde65630-d49b-4c18-c324-23fd15ef4c0f"
      },
      "source": [
        "print(txts[14]) #Qin"
      ],
      "execution_count": null,
      "outputs": [
        {
          "output_type": "stream",
          "text": [
            "Transforming the data landscape -- This panel examines the state of research in the areas of data practices, behaviors, infrastructure, and policies through a series of five recently completed and in-progress studies. At their core these investigations seek to examine strategies for better connecting data, policies, and research communities. Often data and their related practices, policies, and infrastructure lack connection and cohesiveness to support data sharing among various communities. To better understand the current situation these connections will be explored through an assessment of emerging research. It is hoped that this research can be utilized to transform and better connect data practices, policies, and communities of practice.; A content analysis of institutional data policies -- The newly issued requirement for a data management plan in proposals submitted to the U.S. National Science Foundation and other federal funding agencies prompted many institutions to develop their own policies to conform to this new requirement as well as to more effectively manage, share, publish, and provide access to research data. While the need for guidelines or a framework in developing such data policies is imminent, research is lacking in this area. The study reported here addresses this need by using a content analysis of 58 policy documents from 20 institutions. Our preliminary findings reveal an uneven distribution of data policies among the institutions and disciplines included in this study. We are currently analyzing our results.; A Closer Look at Data Co-authorship -- ; Research networks in data repositories -- This paper reports our ongoing work investigating the structural features of scientific collaboration based on metadata collected from a scientific data repository (SDR). The background literature is reviewed in supporting our claim that metadata collected from SDRs offer a complimentary data source to traditional publication metadata collected from digital libraries. Methodological considerations are discussed in association with using metadata from SDRs, including author name disambiguation and data parsing. Initial findings show that the network has some unique macro-level structural features while also in agreement with existing networks theories. Challenges due to inconsistent metadata quality control procedures are also discussed in an attempt to reinforce claims that metadata should be designed to support both domain specific retrieval and evaluation and assessment needs.; Analysis of networks in cyberinfrastructure-enabled research communities -- ; Emergence of collaboration networks around large scale data repositories -- The advent of large data repositories and the necessity of distributed skillsets have led to a need to study the scientific collaboration network emerging around cyber-infrastructure-enabled repositories. To explore the impact of scientific collaboration and large-scale repositories in the field of genomics, we analyze coauthorship patterns in NCBIs big data repository GenBank using trace metadata from coauthorship of traditional publications and coauthorship of datasets. We demonstrate that using complex network analysis to explore both networks independently and jointly provides a much richer description of the community, and addresses some of the methodological concerns discussed in previous literature regarding the use of coauthorship data to study scientific collaboration.; Indicators for analyzing institutional repositories' performance -- This paper presents preliminary findings which examines the statistical correlation among and within micro and macro-level variables associated with Institutional Repositories (IRs), in order to explore potential indicators for the study of IRs activity and growth performance.; Towards a model for research data reuse behavior -- This poster reports a qualitative exploratory study of data reuse processes, and factors scientists consider when deciding whether or not to reuse data. Findings from this study revealed six core theoretical variables along with 28 influential factors that were salient across interviews and supported by research literature. The synthesis of findings led to the development of a model that draws upon the Unified Theory of Acceptance and Use of Technology (UTAUT) to investigate scientists' intentions and behavior towards the reuse of research data. The proposed model offers a novel approach to the current base of knowledge that has been essentially exploratory and atheoretical in nature. It also serves as the foundation for a future larger scale research that expects to provide guidelines for policymakers, open data advocates, and data repository stakeholders to better attune policies and repositories to scientists' expectations and needs.; Untangling data sharing and reuse in social sciences -- The discipline of social science has unique research norms and cultures regarding data sharing and reuse that can be affected by complex factors related to context, time and dependence on human subjects. Compared with STEM disciplines, social sciences emphasize the protection of study participants and observees. Extra effort is required from reusers to preserve data interconnectedness in order to guarantee the data's understandability and informative value. In this panel, the panelists will present their research findings and provide perspective on social science data sharing and reuse, including factors that may influence data reuse behavior, researchers' trust judgment in data for data reuse, and infrastructural barriers and incentives for data sharing among social scientists. This panel aims to provide an overview of the current state of social science data reuse and sharing, and, in collaboration with panel participants, elicit topics for future research. It also proposes a practical agenda to develop alternative incentives for individual researchers, and potential ways in which data sharing and reuse can be improved, coordinated, and encouraged among social scientists.; Using internship experience to evaluate a new program in eScience librarianship -- This research project explores the role of internships in a new curriculum designed to educate eScience librarians. Experiential learning was identified early on in the IMLS-funded project as a necessary aspect to give students field exposure to information-related developments of cyberinfrastructure-enabled science. Nine students were tasked to fill out a daily survey that captured their experience at academic and research libraries, field research stations, and national and discipline-based research centers. Analysis of these accumulated \"diary\" entries is underway to identify learning outcomes of the eSLib program, particularly two required, data-oriented courses the students mastered in the first year of the program. The analysis will also aggregate and trace longitudinally student skill application throughout the summer. Evaluation of student experience should enhance understanding of the relation between the eScience Librarianship program and what is needed by institutions tasked with managing data produced by computer and network-enabled scientists.; A novel research approach to enhance research group-level science data management -- This poster will report an alternative approach compared with large-scale collection, technology development, or discipline informatics projects by exploring the enhancement of science data management at the research group level. An academic-year-long project involving both information and technical analysts demonstrated that flexible introduction of IT in the form of a relational database solution presents an opportunity to incorporate data-related practices, behavior, and schemes into a tool. The project team used cognitive work analysis and participatory design research methods to sensitively analyze research practice and then design and introduce a prototype tool. Iterative analysis and design cycles captured and incorporated the complex practices of researchers who struggle with the accumulation of samples and related digital data files from years of research. Design research processes will be analyzed according to project developments and research group reaction to the proposed data management tool design and preliminary attempt at implementation.; Remodeling archival metadata descriptions for linked archives -- Though archival resources may be valued for their uniqueness, they do not exist in isolation from each other, and stand to benefit from linked data treatments capable of exposing them to a wider network of resources and potential users. To leverage these benefits, existing, item-level metadata depicting physical materials and their digitized surrogates must be remodeled as linked data. A number of solutions exist, but many current models in this domain are complex and may not capture all relevant aspects of larger, heterogeneous collections of media materials. This paper presents the development of the Linked Archives model, a linked data approach to making item-level metadata available for archival collections of media materials, including photographs, sound recordings, and video recordings. Developed and refined through an examination of existing collection and item metadata alongside comparisons to established domain ontologies and vocabularies, this model takes a modular approach to remodeling archival data as linked data. Current efforts focused on a simplified, user discovery focused module intended to improve access to these materials and the incorporation of their metadata into the wider web of data. This project contributes to work exploring the representation of the range of archival and special collections and how these materials may be addressed via linked data models.; Beyond the data management plan -- Support for research data management (RDM) has become a popular focus for library services, and many training opportunities in RDM exist for librarians. However, fewer opportunities exist for librarians to develop the more advanced skills and expertise necessary to support data science and open science. To better understand how to develop a library workforce prepared to develop services in the emerging areas of data science and open science, the National Library of Medicine convened a workshop of 15 librarians and information professionals with a range of expertise in data and open science. This session will present the workshop's recommendations and use participatory facilitation methods to engage attendees in conversation about how to prepare information professionals to meet the evolving challenges of data science and open science.; Understanding metadata functional requirements in genome curation work -- The proliferation of genomic data and their widespread data reuse pose new challenges to effectively manage and curate genomic data. This study contributes towards better understanding of 156 genomics scientists' perception and priorities for metadata functional requirements in genome curation work. Our study was guided by previously identified twenty two metadata functional requirements (Willis, Greenberg, & White, 2012), and intended to define a context-sensitive model of groupings for metadata goals in genome curation. Analysis of the results revealed that genomics scientists recognize specific sets of metadata functional requirements in the genome-curation context. These metadata goals were reduced to six factor constructs. The rankings of these constructs in decreasing order are Portability, Reusability, Manipulability, Sufficiency, Interoperability, and Modularity. The findings indicated that genomics scientists need both domain independent and dependent metadata functional requirements that are primarily related to data comparison, integration, and reuse across platforms and databases. The constructs defined by this study advance the understanding of metadata requirements and their relationships. In addition, the resulting metadata requirement model can serve as a valuable resource to genome scientists, data curators and administrators for designing metadata schemes and developing data-curation policies.; An interactive metadata model for structural, descriptive, and referential representation of scholarly output -- The scientific metadata model proposed in this article encompasses both classical descriptive metadata such as those defined in the Dublin Core Metadata Element Set (DC) and the innovative structural and referential metadata properties that go beyond the classical model. Structural metadata capture the structural vocabulary in research publications; referential metadata include not only citations but also data about other types of scholarly output that is based on or related to the same publication. The article describes the structural, descriptive, and referential (SDR) elements of the metadata model and explains the underlying assumptions and justifications for each major component in the model. Scholar- Wiki, an experimental system developed as a proof of concept, was built over the wiki platform to allow user interaction with the metadata and the editing, deleting, and adding of metadata. By allowing and encouraging scholars (both as authors and as users) to participate in the knowledge and metadata editing and enhancing process, the larger community will benefit from more accurate and effective information retrieval. The ScholarWiki system utilizes machine-learning techniques that can automatically produce self-enhanced metadata by learning from the structural metadata that scholars contribute, which will add intelligence to enhance and update automatically the publication of metadata Wiki pages.; ScholarWiki system for knowledge indexing and retrieval -- The goal of this research is to develop a tri-dimensional metadata model and implement this model through the ScholarWiki system to combine the machine-induced, user-enhanced metadata for more effective knowledge discovery and information retrieval. The tri-dimensional model captures the Structural, Descriptive, and Referential (SDR) metadata and incorporates them into a social media platform-ScholarWiki system. By allowing low-barrier participation, scholars (both as authors and users) can participate in the knowledge and metadata editing and enhancing process and benefit from more accurate and effective information retrieval. The ScholarWiki system utilizes machine-learning techniques that can automatically produce self-enhanced metadata through learning the structural metadata that scholars contribute. The cumulated machine learning will add intelligence to automatically enhance and update the publication metadata Wiki pages.; Interlinking cross language metadata using heterogeneous graphs and wikipedia -- Cross-language metadata are essential in helping users overcome language barriers in information discovery and recommendation. The construction of cross-language vocabulary, however, is usually costly and intellectually laborious. This paper addresses these problems by proposing a Cross-Language Metadata Network (CLMN) approach, which uses Wikipedia as the intermediary for cross-language metadata linking. We conducted a proof-of-concept experiment with key metadata in two digital libraries and in two different languages without using machine translation. The experiment result is encouraging and suggests that the CLMN approach has the potential not only to interlink metadata in different languages with reasonable rate of precision and quality but also to construct cross-language metadata vocabulary. Limitations and further research are also discussed.; The central role of metadata in a science data literacy course -- Science research is increasingly computer and network enabled and referred to as e-science. The change has had an impact on the information environment in which scientists across disciplines operate to conduct their research. This paper reports on an NSF funded project at the Syracuse University School of Information Studies (2007-2009) that examined this changing environment and directed specific attention to digital data management practices. A local faculty survey of data management practices and attitudes was conducted, as was a scan of related courses at peer institutions. Knowledge about data management in e-science was used to design a new course addressing data-related literacy for science students and teach them skills for managing data created as part of the scientific research process. Through out the project, metadata proved to have a central role in how scientists operate in the e-science information environment and to be a key component of data literacy in the e-science environment.; Institutional policies on science research data -- Institutions are increasingly feeling the pressure to develop strategies and policies to address these issues in science data management. Policies for data management, archiving, sharing, publishing, and use have sprouted on institutional and research centers' websites. The purpose of our pilot analysis was to collect policy examples for content analysis so that we have a better understanding of what types of policies exist and what issues they address. The poster will present an analysis of institutional policies on science research data management, archiving, sharing and publishing, and use.; Metadata and reproducibility: A case study of gravitational wave data management. -- The complexity of computationally-intensive scientific research poses great challenges for both research data management and research reproducibility. What metadata needs to be captured for tracking, reproducing, and reusing computational results is the starting point in developing metadata models to fulfill these functions of data management. This paper reports the findings from interviews with gravitational wave (GW) researchers, which were designed to gather user requirements to develop a metadata model. Motivations for keeping documentation of data and analysis results include trust, accountability and continuity of work. Research reproducibility relies on metadata that represents code dependencies and versions and has good documentation for verification. Metadata specific to GW data, workflows and outputs tend to differ from those currently available in metadata standards. The paper also discusses the challenges in representing code dependencies and workflows.; Enhancing scientific data literacy in college students -- Data literacy education is a new service territory for many academic libraries. This paper reports our experience from a two-year Science Data Literacy (SDL) project through four areas of activities: (1) survey on faculty’s perceptions and practices in data management, (2) design of SDL learning modules, (3) delivery of the course, and (4) assessment of learning outcomes. We found from the faculty survey that there was a low level of awareness of research data management importance, methods, and tools in general and that the data management practice is associated with the size and complexity of the data produced by their research. Science data literacy training was difficult to be integrated into formal curricula due to their structure, even though the need for such training was on the rise. The lessons learned from the two-year project and how libraries and library and information science education might turn this challenge into opportunities are discussed. ; From data to knowledge: -- This presentation addresses the research question of how the changing climate of science research has affected scientific capacity, the aggregation of the knowledge, skills, abilities, and technical facilities of individual scientists [referred to as Scientific and Technical (S&T) Human Capital], as well as their networks ofcollaborative relationships. By presenting a theoretical framework of concepts and relationships between scientific capacity and knowledge diffusion, the presentation reports findings from a two-year big metadata mining project and discusses the measures of impact assessment of CI-enabled collaboration and knowledge diffusion.  ; Stories from research frontline concerning data management and services. -- ; Scientific data management services and practices. -- This is an invited lecture to a one-week workshop for training librarians and information professionals who will be engaged in managing research data in their organizations. The workshop was held at the National Science and Technology Library of China, May 23-27, 2016, Beijing, China.; Transformation from Digital Libraries to Digital Repositories: -- This presentation discuses the emerging digital repository types and their implications to digital scholarship services in academic libraries. ; Pursuing Best Performance in Research Data Management by Using the Capability Maturity Model and Rubrics -- ; Collaboration Capacity -- This paper reports a study of the incremental impact of evolving cyberinfrastructure (CI)-enabled collaboration networks on scientific capacity and knowledge diffusion. While ample research shows how collaboration contributes to greater productivity, higher-quality scientific outputs, and increased probability of breakthroughs, it is unclear how the early stages of collaboration on data creation supports knowledge generation and diffusion. Further, it is not known whether the ability to garner larger inputs increases collaboration capacity and subsequently accelerates the rate of knowledge diffusion. Given that the collaboration capacity of a science team is largely dependent upon the Scientific and Technical (S&T) Human Capital, the greater a researcher’s S&T human capital, the greater the opportunity to collaborate and access resources. We use “Collaboration Capacity” to refer to this measure of S&T human capital. In this study, we collected metadata for molecular sequences in GenBank from 1990-2013. The data contain details about sequences, submission date, submitter(s), and associated publications and authors. Based on the collaboration capacity framework, we focused on the relationship between collaboration network size and research productivity and the role of CI-enabled data repositories in accelerating collaboration capacity. Our preliminary results show that the size of CI-enabled collaboration networks at data creation stage was positively related to research productivity as measured by sequence data production, and the extent and rate of knowledge diffusion, represented by patent applications. Shrinking time gaps between data submissions and patent applications support the hypothesis that CI-enabled data repositories are an accelerating factor in incremental collaboration capacity.; Metadata -- Metadata remains the solution for describing the explosively growing, complex world of digital information, and continues to be of paramount importance for information professionals. Providing a solid grounding in the variety and interrelationships among different metadata types, Zeng and Qin's thorough revision of their benchmark text offers a comprehensive look at the metadata schemas that exist in the world of library and information science and beyond, as well as the contexts in which they operate. Cementing its value as both an LIS text and a handy reference for professionals already in the field, this book    --lays out the fundamentals of metadata, including principles of metadata, structures of metadata vocabularies, and metadata descriptions;    --surveys metadata standards and their applications in distinct domains and for various communities of metadata practice;    --examines metadata building blocks, from modeling to defining properties, and from designing application profiles to implementing value vocabularies;    --describes important concepts as resource identification, metadata as linked data, consumption of metadata, interoperability, and quality measurement; and   -- offers an updated glossary to help readers navigate metadata's complex terms in easy-to-understand definitions.An online resource of web extras, packed with exercises, quizzes, and links to additional materials, completes this definitive primer on metadata.; Structures and Relations of Knowledge Nodes: -- The vast amount of DNA sequence and protein data are being explored and linked to diseases as causative factors to support clinical and healthcare decision making. These developments in data-intensive biological sciences and clinical practices raised new questions for knowledge organization systems (KOS), and taxonomies in particular. Sitting at the center of these questions is the lagging of KOS’s capabilities in responding to the rapidly changing and emerging  biomedical and disease terms due to the static, hierarchical structures and disconnection with new disease data fin traditional KOSs. This paper reports a pilot study that is designed to uncover and identify the types of knowledge nodes and relationships that can help generalize a framework or model for building a Knowledge Network of Disease, or the New Taxonomy envisaged by theNational Academy of Science. This pilot study examined a sample of biomedicalpublications and drew a knowledge map to lay out the main knowledge nodes and their relationships. A preliminary framework for constructing the Knowledge Network of Disease is discussed.; A relation typology in knowledge organization systems: -- Relations between concepts (and/or entities, events, and other things) vary depending on the criteria by which relations are defined or viewed. In the domain of research data management, different types of research generate different types of data and terminologies vary between practitioners and basic science researchers even within the same disciplinary domain. Interactions between datasets, between datasets and documentation, and between datasets and computing code can result in different types of relations. This paper employs a framework of analysis to study concept relation types in the research data management domain.  By using two cases – one is the GenBank annotation records and the other is the data and artifact collection from a gravitational wave search, this paper demonstrates the types of relations existing in and between datasets, publications, computing codes, and workflows. The analysis and generalization of these relations references the research in AI’s knowledge representation and knowledge organization systems (KOS), including both ad hoc subject categories and formal KOS, because in the next AI era, relations as one of the key components of AI applications will be required to function not only as part of KOS for indexing data and publications, but more importantly, to function as codifiable knowledge for machine consumption. ; Special Issue: Visualizing the (Data) Future. -- As libraries and academic institutions evolve into “data-driven” organizations, they are looking for meaningful ways in which to convey their data to funding and regulatory agencies, licensing and accreditation boards, and institutional students, faculty and staff. This data-driven culture is being integrated into all facets of library operations, and data visualization services is emerging as a distinct library research and service development area.; Detection of Knowledge Nodes and Relations -- A bottleneck problem in detecting knowledge nodes and their relations is how to extract accurately and correctly and codify the complex knowledge assertions from full-text documents (human intelligence) into the format of “machine intelligence” (computer-processable knowledge assertions). This paper reports a preliminary study that aims at this bottleneck problem by starting from the fundamentals of KR—representing knowledge from full-text documents by using knowledge node and rela-tion recognition methods and tools. We collected data from full-text biomedical research publications and used manual and automatic tools to investigate the strengths and limitations of these methods. The findings show that MetaMap did a better job in detecting concepts from texts while SemRep is capable of extract relations between k-nodes. The paper presents the findings from the perspectives of degree of abstraction, types of k-nodes and relations, and linguistic structures and the eval-uation results using the BLEU and cosine similarity measures. ; Knowledge node and relation detection -- A bottleneck problem in detecting knowledge nodes and their relations is how to extract accurately and correctly and codify the complex knowledge assertions from full-text documents (human intelligence) into the format of \"machine intelligence\" (computer-processable knowledge assertions). This paper reports a preliminary study that aims at this bottleneck problem by starting from the fundamentals of KR-representing knowledge from full-text documents by using knowledge node and relation recognition methods and tools. We collected data from full-text biomedical research publications and used manual and automatic tools to investigate the strengths and limitations of these methods. The findings show that MetaMap did a better job in detecting concepts from texts while SemRep is capable of extract relations between k-nodes. The paper presents the findings from the perspectives of degree of abstraction, types of k-nodes and relations, and linguistic structures and the evaluation results using the BLEU and cosine similarity measures.; Technical and policy underpinnings of FAIR data principles -- At the trajectory of exponential data growth and FAIR (Findable, Accessible, Interoperable and Re-usable) requirements, organizations face the data management and publishing challenges in support of effective data discovery and publishing activities. This panel brings researchers and practitioners who have researched and practiced in managing datasets and providing discovery services to share their experience and expertise in addressing the challenges and proactively responding to trends in research data management, curation, sharing, and reuse.; How portable are the metadata standards for scientific data? A proposal for a metadata infrastructure -- The one-covers-all approach in current metadata standards for scientific data has serious limitations in keeping up with the ever-growing data. This paper reports the findings from a survey to metadata standards in the scientific data domain and argues for the need for a metadata infrastructure. The survey collected 4400+ unique elements from 16 standards and categorized these elements into 9 categories. Findings from the data included that the highest counts of element occurred in the descriptive category and many of them overlapped with DC elements. This pattern also repeated in the elements co-occurred in different standards. A small number of semantically general elements appeared across the largest numbers of standards while the rest of the element co-occurrences formed a long tail with a wide range of specific semantics. The paper discussed implications of the findings in the context of metadata portability and infrastructure and pointed out that large, complex standards and widely varied naming practices are the major hurdles for building a metadata infrastructure.; Functional and architectural requirements for metadata -- The tremendous growth in digital data has led to an increase in metadata initiatives for different types of scientific data, as evident in Ball's survey (2009). Although individual communities have specific needs, there are shared goals that need to be recognized if systems are to effectively support data sharing within and across all domains. This paper considers this need, and explores systems requirements that are essential for metadata supporting the discovery and management of scientific data. The paper begins with an introduction and a review of selected research specific to metadata modeling in the sciences. Next, the paper's goals are stated, followed by the presentation of valuable systems requirements. The results include a base-model with three chief principles: principle of least effort, infrastructure service, and portability. The principles are intended to support \"data user\" tasks. Results also include a set of defined user tasks and functions, and applications scenarios.; Linking entities in scientific metadata -- Linked entity data in metadata records builds a foundation for the Semantic Web. Even though metadata records contain rich entity data, there is no linking between associated entities such as persons, datasets, projects, publications, or organizations. We conducted a small experiment using the dataset collection from the Hubbard Brook Ecosystem Study (HBES), in which we converted the entities and their relationships into RDF triples and linked the URIs contained in RDF triples to the corresponding entities in the Ecological Metadata Language (EML) records. Through the transformation program written in XML Stylesheet Language (XSL), we turned a plain EML record display into an interlinked semantic web of ecological datasets. The experiment suggests a methodological feasibility in incorporating linked entity data into metadata records. The paper also argues for the need for change in the scientific as well as the general metadata paradigm.; Knowledge Organization and Representation under the AI Lens -- This paper compares the paradigmatic differences between knowledge organization (KO) in library and information science and knowledge representation (KR) in AI to show the convergence in KO and KR methods and applications. The literature review and comparative analysis of KO and KR paradigms is the primary method used in this paper. A key difference between KO and KR lays in the purpose of KO is to organize knowledge into certain structure for standardizing and/or normalizing the vocabulary of concepts and relations, while KR is problem-solving oriented. Differences between KO and KR are discussed based on the goal, methods, and functions. This is only a preliminary research with a case study as proof of concept. The paper articulates on the opportunities in applying KR and other AI methods and techniques to enhance the functions of KO. Ontologies and linked data as the evidence of the convergence of KO and KR paradigms provide theoretical and methodological support to innovate KO in the AI era.; Conceptual models and ontological schemas for semantically sustainable digital libraries -- Semantic frameworks build foundations for digital libraries and repositories to enable structured data and information representation and interoperability in today's interlinked information systems. Conceptual modeling and ontological schemas provide effective communication and powerful tools for creating shared understanding and sustainable systems in various digital libraries. This panel will present cases in which conceptual modeling and ontologies are used to enrich content representation and reach consensus among communities of practice, especially in fast changing digital society and emerging application domains. Four experts in knowledge organization will first give a brief introduction for their research in conceptual modeling and ontology building and then engage the audience with question answering interactions.; Data management -- This poster presents the preliminary results from a survey on the data management practices of graduate students. We investigate what graduate students know about data management from the technical aspects such as the familiarity and use of tools and technologies along with their participation and familiarity with data standards and policies. Preliminary data shows that graduate students lack awareness of data management policies, technologies, and practices when it comes to storing, accessing, and sharing data. The aim of this work is to provide insight on the data literacy needs of graduate students.\n"
          ],
          "name": "stdout"
        }
      ]
    },
    {
      "cell_type": "code",
      "metadata": {
        "id": "UFA3AyN2tOEI"
      },
      "source": [
        "from sklearn.feature_extraction.text import TfidfVectorizer, CountVectorizer\n",
        "\n",
        "no_features = 1000\n",
        "\n",
        "#set ngram range include unigrams and bigrams\n",
        "\n",
        "#tf_vectorizer = CountVectorizer(max_df=0.95, min_df=2, max_features=no_features,ngram_range=(1,2),stop_words='english')\n",
        "tf_vectorizer = CountVectorizer(max_df=0.95, min_df=2, max_features=no_features,stop_words='english')\n",
        "\n",
        "tf = tf_vectorizer.fit_transform(txts)\n",
        "tf_feature_names = tf_vectorizer.get_feature_names()\n",
        "\n",
        "\n",
        "\n"
      ],
      "execution_count": null,
      "outputs": []
    },
    {
      "cell_type": "code",
      "metadata": {
        "id": "2DZasKU4tOEJ",
        "outputId": "7aaf3c4f-e4ac-4b71-c6a9-351065bd4e93"
      },
      "source": [
        "\n",
        "from sklearn.decomposition import NMF, LatentDirichletAllocation\n",
        "\n",
        "no_topics = 4\n",
        "\n",
        "# Run LDA\n",
        "lda = LatentDirichletAllocation(n_components=no_topics, max_iter=5, learning_method='online', learning_offset=50.,random_state=0)\n",
        "lda_z = lda.fit_transform(tf)\n",
        "\n",
        "\n",
        "def display_topics(model, feature_names, no_top_words):\n",
        "    for topic_idx, topic in enumerate(model.components_):\n",
        "        print(\"Topic %d:\" % (topic_idx))\n",
        "        print(\" \".join([feature_names[i]\n",
        "                        for i in topic.argsort()[:-no_top_words - 1:-1]]))\n",
        "\n",
        "no_top_words = 20\n",
        "\n",
        "\n",
        "topics=display_topics(lda, tf_feature_names, no_top_words)\n",
        "\n",
        "\n",
        "#Some topics do make sense by taking a look at some top keywords. For example, topic 6 is talking about cars. However some topics are unclear like topic 0 and 9.\n"
      ],
      "execution_count": null,
      "outputs": [
        {
          "output_type": "stream",
          "text": [
            "Topic 0:\n",
            "security library learning value research data libraries academic assessment based cloud users services social approach access literacy systems results user\n",
            "Topic 1:\n",
            "social media research online use data study design based analysis political different paper users approach messages public commerce work communication\n",
            "Topic 2:\n",
            "data research science social work design use paper learning knowledge study online support project analysis new projects metadata model using\n",
            "Topic 3:\n",
            "spectrum use learning data management value research firms using based systems dynamic wireless communication paper model access results analysis smart\n"
          ],
          "name": "stdout"
        }
      ]
    }
  ]
}